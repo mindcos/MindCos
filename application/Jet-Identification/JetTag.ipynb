{
 "cells": [
  {
   "cell_type": "code",
   "execution_count": 1,
   "id": "a6cd4db0-af80-49bd-94d3-3776f64766a6",
   "metadata": {},
   "outputs": [
    {
     "name": "stderr",
     "output_type": "stream",
     "text": [
      "/root/miniconda3/lib/python3.10/site-packages/numpy/core/getlimits.py:549: UserWarning: The value of the smallest subnormal for <class 'numpy.float64'> type is zero.\n",
      "  setattr(self, word, getattr(machar, word).flat[0])\n",
      "/root/miniconda3/lib/python3.10/site-packages/numpy/core/getlimits.py:89: UserWarning: The value of the smallest subnormal for <class 'numpy.float64'> type is zero.\n",
      "  return self._float_to_str(self.smallest_subnormal)\n",
      "/root/miniconda3/lib/python3.10/site-packages/numpy/core/getlimits.py:549: UserWarning: The value of the smallest subnormal for <class 'numpy.float32'> type is zero.\n",
      "  setattr(self, word, getattr(machar, word).flat[0])\n",
      "/root/miniconda3/lib/python3.10/site-packages/numpy/core/getlimits.py:89: UserWarning: The value of the smallest subnormal for <class 'numpy.float32'> type is zero.\n",
      "  return self._float_to_str(self.smallest_subnormal)\n"
     ]
    }
   ],
   "source": [
    "import mindspore as ms\n",
    "import mindspore.nn as nn\n",
    "from mindspore import context\n",
    "\n",
    "from src.dataset import retrieve_dataloaders as loader\n",
    "from src.model import LorentzNet\n",
    "from src.train import train_loop, test_loop, forward_fn"
   ]
  },
  {
   "cell_type": "code",
   "execution_count": 2,
   "id": "28b5cf07-ad31-411d-b9ba-2d8079b4980a",
   "metadata": {},
   "outputs": [],
   "source": [
    "dataset, dataloaders = loader(32, 100000)"
   ]
  },
  {
   "cell_type": "code",
   "execution_count": 3,
   "id": "16bf7ad1-e1e1-4837-9830-cf84ffbece83",
   "metadata": {},
   "outputs": [
    {
     "name": "stderr",
     "output_type": "stream",
     "text": [
      "[WARNING] DEVICE(83158,ffff85e77020,python):2025-08-28-14:39:55.859.101 [mindspore/ccsrc/plugin/device/ascend/hal/device/ascend_vmm_adapter.h:149] CheckVmmDriverVersion] Open file /etc/ascend_install.info failed.\n",
      "[WARNING] DEVICE(83158,ffff85e77020,python):2025-08-28-14:39:55.859.176 [mindspore/ccsrc/plugin/device/ascend/hal/device/ascend_vmm_adapter.h:177] CheckVmmDriverVersion] Open file /usr/local/Ascend/driver/version.info failed.\n"
     ]
    }
   ],
   "source": [
    "model = LorentzNet(n_scalar = 8, n_hidden = 72, n_class = 2,\n",
    "                       dropout = 0.2, n_layers = 6,\n",
    "                       c_weight = 0.001)"
   ]
  },
  {
   "cell_type": "code",
   "execution_count": 4,
   "id": "cae1a96c-43f2-4f67-bf9a-752c66d36d55",
   "metadata": {},
   "outputs": [],
   "source": [
    "optimizer = nn.AdamWeightDecay(model.trainable_params(), learning_rate=0.0002, weight_decay=0.01)\n",
    "loss_fn = nn.CrossEntropyLoss()"
   ]
  },
  {
   "cell_type": "code",
   "execution_count": 5,
   "id": "052f1162-2fd2-47b4-8f64-77bd88646e92",
   "metadata": {},
   "outputs": [
    {
     "name": "stdout",
     "output_type": "stream",
     "text": [
      "Train\n",
      "Epoch 1\n",
      "-------------------------------\n",
      " [**************************************************]2500/2500 - used 1150.0s / left 0.0s / loss 0.4910376953 / acc 78.0138   \n",
      ".Valid: \n",
      " Accuracy: 79.2%, Avg loss: 0.469650 \n",
      "\n",
      "Epoch 2\n",
      "-------------------------------\n",
      " [**************************************************]2500/2500 - used 1069.9s / left 0.0s / loss 0.4683453613 / acc 79.4150  \n",
      "Valid: \n",
      " Accuracy: 79.0%, Avg loss: 0.454286 \n",
      "\n",
      "Epoch 3\n",
      "-------------------------------\n",
      " [**************************************************]2500/2500 - used 1123.1s / left 0.0s / loss 0.4595571777 / acc 79.8762   \n",
      "Valid: \n",
      " Accuracy: 80.0%, Avg loss: 0.445712 \n",
      "\n",
      "Test\n",
      "Valid: \n",
      " Accuracy: 80.1%, Avg loss: 0.442475 \n",
      "\n",
      "Done!\n"
     ]
    }
   ],
   "source": [
    "grad_fn = ms.value_and_grad(forward_fn, None, optimizer.parameters, has_aux=True)\n",
    "print('Train')\n",
    "file_name = 'LorentzNet_training'\n",
    "for t in range(3):\n",
    "    print(f\"Epoch {t+1}\\n-------------------------------\")\n",
    "    train_loop(model, dataloaders['train'], loss_fn, grad_fn, optimizer, t, file_name)\n",
    "    print()\n",
    "    test_loop(model, dataloaders['val'], loss_fn)\n",
    "\n",
    "\n",
    "print('Test')\n",
    "test_loop(model, dataloaders['test'], loss_fn)\n",
    "print(\"Done!\")"
   ]
  },
  {
   "cell_type": "code",
   "execution_count": null,
   "id": "d77bd5d6-5079-4ac2-a38e-ff4202344244",
   "metadata": {},
   "outputs": [],
   "source": []
  }
 ],
 "metadata": {
  "kernelspec": {
   "display_name": "Python 3 (ipykernel)",
   "language": "python",
   "name": "python3"
  },
  "language_info": {
   "codemirror_mode": {
    "name": "ipython",
    "version": 3
   },
   "file_extension": ".py",
   "mimetype": "text/x-python",
   "name": "python",
   "nbconvert_exporter": "python",
   "pygments_lexer": "ipython3",
   "version": "3.10.8"
  }
 },
 "nbformat": 4,
 "nbformat_minor": 5
}
